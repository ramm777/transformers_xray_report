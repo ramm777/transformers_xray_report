{
 "cells": [
  {
   "cell_type": "code",
   "execution_count": 2,
   "metadata": {},
   "outputs": [],
   "source": [
    "import json\n",
    "from pathlib import Path\n",
    "import pandas as pd\n",
    "import matplotlib.pyplot as plt"
   ]
  },
  {
   "cell_type": "code",
   "execution_count": null,
   "metadata": {},
   "outputs": [],
   "source": []
  },
  {
   "cell_type": "markdown",
   "metadata": {
    "jp-MarkdownHeadingCollapsed": true
   },
   "source": [
    "# Task 1 old"
   ]
  },
  {
   "cell_type": "code",
   "execution_count": 1,
   "metadata": {},
   "outputs": [],
   "source": [
    "import pandas as pd\n",
    "import json"
   ]
  },
  {
   "cell_type": "code",
   "execution_count": 2,
   "metadata": {},
   "outputs": [
    {
     "name": "stdout",
     "output_type": "stream",
     "text": [
      "296\n"
     ]
    },
    {
     "data": {
      "text/plain": [
       "{'id': 'CXR2279_IM-0865',\n",
       " 'original_report': 'Heart size is enlarged. The aorta is unfolded. Otherwise the mediastinal contour is normal. There are streaky bibasilar opacities. There are no nodules or masses. No visible pneumothorax. No visible pleural fluid. The XXXX are grossly normal. There is no visible free intraperitoneal air under the diaphragm.',\n",
       " 'split': 'val'}"
      ]
     },
     "execution_count": 2,
     "metadata": {},
     "output_type": "execute_result"
    }
   ],
   "source": [
    "file_path = 'data/annotation_quiz_all.json'\n",
    "\n",
    "with open(file_path, 'r') as f:\n",
    "    data = json.load(f)\n",
    "\n",
    "data_val = data[\"val\"]\n",
    "\n",
    "print( len(data_val) ) \n",
    "data_val[0] "
   ]
  },
  {
   "cell_type": "code",
   "execution_count": 3,
   "metadata": {},
   "outputs": [
    {
     "data": {
      "application/vnd.jupyter.widget-view+json": {
       "model_id": "5225fafa183140d7a59ebb800bb4ce98",
       "version_major": 2,
       "version_minor": 0
      },
      "text/plain": [
       "VBox(children=(HTML(value='<center> <img\\nsrc=https://huggingface.co/front/assets/huggingface_logo-noborder.sv…"
      ]
     },
     "metadata": {},
     "output_type": "display_data"
    }
   ],
   "source": [
    "# pip install huggingface_hub\n",
    "# pip install ipywidgets\n",
    "# Untick \"Add token as git credential?\"\n",
    "\n",
    "from huggingface_hub import notebook_login\n",
    "\n",
    "notebook_login()"
   ]
  },
  {
   "cell_type": "code",
   "execution_count": 4,
   "metadata": {},
   "outputs": [],
   "source": [
    "# pip install 'accelerate>=0.26.0'\n",
    "# pip install transformers\n",
    "# pip install torch transformers sentencepiece\n",
    "import transformers   \n",
    "import torch          "
   ]
  },
  {
   "cell_type": "code",
   "execution_count": 6,
   "metadata": {},
   "outputs": [
    {
     "data": {
      "application/vnd.jupyter.widget-view+json": {
       "model_id": "3f5600f0362547f4b967a6cdfdde73cf",
       "version_major": 2,
       "version_minor": 0
      },
      "text/plain": [
       "config.json:   0%|          | 0.00/654 [00:00<?, ?B/s]"
      ]
     },
     "metadata": {},
     "output_type": "display_data"
    },
    {
     "name": "stderr",
     "output_type": "stream",
     "text": [
      "e:\\XRay_ReportGeneration\\.venv\\lib\\site-packages\\huggingface_hub\\file_download.py:140: UserWarning: `huggingface_hub` cache-system uses symlinks by default to efficiently store duplicated files but your machine does not support them in C:\\Users\\kubey\\.cache\\huggingface\\hub\\models--meta-llama--Meta-Llama-3-8B. Caching files will still work but in a degraded version that might require more space on your disk. This warning can be disabled by setting the `HF_HUB_DISABLE_SYMLINKS_WARNING` environment variable. For more details, see https://huggingface.co/docs/huggingface_hub/how-to-cache#limitations.\n",
      "To support symlinks on Windows, you either need to activate Developer Mode or to run Python as an administrator. In order to activate developer mode, see this article: https://docs.microsoft.com/en-us/windows/apps/get-started/enable-your-device-for-development\n",
      "  warnings.warn(message)\n"
     ]
    },
    {
     "data": {
      "application/vnd.jupyter.widget-view+json": {
       "model_id": "df6148dbf7f24349aa6e17ffd2673cf0",
       "version_major": 2,
       "version_minor": 0
      },
      "text/plain": [
       "model.safetensors.index.json:   0%|          | 0.00/23.9k [00:00<?, ?B/s]"
      ]
     },
     "metadata": {},
     "output_type": "display_data"
    },
    {
     "data": {
      "application/vnd.jupyter.widget-view+json": {
       "model_id": "99a56b79f4e94c368fad946fa7da2266",
       "version_major": 2,
       "version_minor": 0
      },
      "text/plain": [
       "Downloading shards:   0%|          | 0/4 [00:00<?, ?it/s]"
      ]
     },
     "metadata": {},
     "output_type": "display_data"
    },
    {
     "data": {
      "application/vnd.jupyter.widget-view+json": {
       "model_id": "76fe9956c69d4829906d627064faf1fe",
       "version_major": 2,
       "version_minor": 0
      },
      "text/plain": [
       "model-00001-of-00004.safetensors:   0%|          | 0.00/4.98G [00:00<?, ?B/s]"
      ]
     },
     "metadata": {},
     "output_type": "display_data"
    },
    {
     "data": {
      "application/vnd.jupyter.widget-view+json": {
       "model_id": "4e6f686cee75498cbaac1db94356e676",
       "version_major": 2,
       "version_minor": 0
      },
      "text/plain": [
       "model-00002-of-00004.safetensors:   0%|          | 0.00/5.00G [00:00<?, ?B/s]"
      ]
     },
     "metadata": {},
     "output_type": "display_data"
    },
    {
     "name": "stderr",
     "output_type": "stream",
     "text": [
      "Error while downloading from https://cdn-lfs-us-1.hf.co/repos/ba/83/ba837357c37c4c572f89ebcdffc2867477dbb4768779d332eb303f848c60d0de/d9eee5f23d94405d90b7e9ff88b9443fee42f8528a658f54214c2aba7530d80c?response-content-disposition=inline%3B+filename*%3DUTF-8%27%27model-00002-of-00004.safetensors%3B+filename%3D%22model-00002-of-00004.safetensors%22%3B&Expires=1737673401&Policy=eyJTdGF0ZW1lbnQiOlt7IkNvbmRpdGlvbiI6eyJEYXRlTGVzc1RoYW4iOnsiQVdTOkVwb2NoVGltZSI6MTczNzY3MzQwMX19LCJSZXNvdXJjZSI6Imh0dHBzOi8vY2RuLWxmcy11cy0xLmhmLmNvL3JlcG9zL2JhLzgzL2JhODM3MzU3YzM3YzRjNTcyZjg5ZWJjZGZmYzI4Njc0NzdkYmI0NzY4Nzc5ZDMzMmViMzAzZjg0OGM2MGQwZGUvZDllZWU1ZjIzZDk0NDA1ZDkwYjdlOWZmODhiOTQ0M2ZlZTQyZjg1MjhhNjU4ZjU0MjE0YzJhYmE3NTMwZDgwYz9yZXNwb25zZS1jb250ZW50LWRpc3Bvc2l0aW9uPSoifV19&Signature=XNSt2%7EqfTVWUm4vxUWQ1edug1Am2c80jgecR62Fx25uZWr9frL2xvoTKMRpzd8g9ujX9%7E0PqfXMhIHFfhDxkpKpzHkCx0td3lRB5Y9EiwxQKCxBRRxwcFQThrminAH4CmgIhn56xzwaSRwXTh5zJtHE-84mKc7BQl5zmyAHl1%7E5PcjNh-PP02146p3-ZTU8Vlzs1RBL58yB9HolxcoZrbWmIKw6K8L30TJ27%7EHEvZWQm0u5UU4eJUyt5bqMJbQeKlatU%7ELbuBMyo1W43IdR3KLr5AOTzEVMf3oReB38-RCqdJo9xC7OSAnPLjPUDqgRdlRzIZ%7EdnUUij3vfMoVh5Ew__&Key-Pair-Id=K24J24Z295AEI9: HTTPSConnectionPool(host='cdn-lfs-us-1.hf.co', port=443): Read timed out.\n",
      "Trying to resume download...\n"
     ]
    },
    {
     "data": {
      "application/vnd.jupyter.widget-view+json": {
       "model_id": "79f85ad69dc94f0b8b5f67809dabde92",
       "version_major": 2,
       "version_minor": 0
      },
      "text/plain": [
       "Downloading shards:   0%|          | 0/4 [00:00<?, ?it/s]"
      ]
     },
     "metadata": {},
     "output_type": "display_data"
    },
    {
     "ename": "ValueError",
     "evalue": "Could not load model meta-llama/Meta-Llama-3-8B with any of the following classes: (<class 'transformers.models.auto.modeling_auto.AutoModelForCausalLM'>, <class 'transformers.models.llama.modeling_llama.LlamaForCausalLM'>). See the original errors:\n\nwhile loading with AutoModelForCausalLM, an error is thrown:\nTraceback (most recent call last):\n  File \"e:\\XRay_ReportGeneration\\.venv\\lib\\site-packages\\urllib3\\response.py\", line 754, in _error_catcher\n    yield\n  File \"e:\\XRay_ReportGeneration\\.venv\\lib\\site-packages\\urllib3\\response.py\", line 879, in _raw_read\n    data = self._fp_read(amt, read1=read1) if not fp_closed else b\"\"\n  File \"e:\\XRay_ReportGeneration\\.venv\\lib\\site-packages\\urllib3\\response.py\", line 862, in _fp_read\n    return self._fp.read(amt) if amt is not None else self._fp.read()\n  File \"C:\\Users\\kubey\\AppData\\Local\\Programs\\Python\\Python39\\lib\\http\\client.py\", line 463, in read\n    n = self.readinto(b)\n  File \"C:\\Users\\kubey\\AppData\\Local\\Programs\\Python\\Python39\\lib\\http\\client.py\", line 507, in readinto\n    n = self.fp.readinto(b)\n  File \"C:\\Users\\kubey\\AppData\\Local\\Programs\\Python\\Python39\\lib\\socket.py\", line 704, in readinto\n    return self._sock.recv_into(b)\n  File \"C:\\Users\\kubey\\AppData\\Local\\Programs\\Python\\Python39\\lib\\ssl.py\", line 1242, in recv_into\n    return self.read(nbytes, buffer)\n  File \"C:\\Users\\kubey\\AppData\\Local\\Programs\\Python\\Python39\\lib\\ssl.py\", line 1100, in read\n    return self._sslobj.read(len, buffer)\nsocket.timeout: The read operation timed out\n\nThe above exception was the direct cause of the following exception:\n\nTraceback (most recent call last):\n  File \"e:\\XRay_ReportGeneration\\.venv\\lib\\site-packages\\requests\\models.py\", line 820, in generate\n    yield from self.raw.stream(chunk_size, decode_content=True)\n  File \"e:\\XRay_ReportGeneration\\.venv\\lib\\site-packages\\urllib3\\response.py\", line 1066, in stream\n    data = self.read(amt=amt, decode_content=decode_content)\n  File \"e:\\XRay_ReportGeneration\\.venv\\lib\\site-packages\\urllib3\\response.py\", line 955, in read\n    data = self._raw_read(amt)\n  File \"e:\\XRay_ReportGeneration\\.venv\\lib\\site-packages\\urllib3\\response.py\", line 908, in _raw_read\n    self._fp.close()\n  File \"C:\\Users\\kubey\\AppData\\Local\\Programs\\Python\\Python39\\lib\\contextlib.py\", line 137, in __exit__\n    self.gen.throw(typ, value, traceback)\n  File \"e:\\XRay_ReportGeneration\\.venv\\lib\\site-packages\\urllib3\\response.py\", line 759, in _error_catcher\n    raise ReadTimeoutError(self._pool, None, \"Read timed out.\") from e  # type: ignore[arg-type]\nurllib3.exceptions.ReadTimeoutError: HTTPSConnectionPool(host='cdn-lfs-us-1.hf.co', port=443): Read timed out.\n\nDuring handling of the above exception, another exception occurred:\n\nTraceback (most recent call last):\n  File \"e:\\XRay_ReportGeneration\\.venv\\lib\\site-packages\\huggingface_hub\\file_download.py\", line 452, in http_get\n    for chunk in r.iter_content(chunk_size=constants.DOWNLOAD_CHUNK_SIZE):\n  File \"e:\\XRay_ReportGeneration\\.venv\\lib\\site-packages\\requests\\models.py\", line 826, in generate\n    raise ConnectionError(e)\nrequests.exceptions.ConnectionError: HTTPSConnectionPool(host='cdn-lfs-us-1.hf.co', port=443): Read timed out.\n\nDuring handling of the above exception, another exception occurred:\n\nTraceback (most recent call last):\n  File \"e:\\XRay_ReportGeneration\\.venv\\lib\\site-packages\\urllib3\\connection.py\", line 198, in _new_conn\n    sock = connection.create_connection(\n  File \"e:\\XRay_ReportGeneration\\.venv\\lib\\site-packages\\urllib3\\util\\connection.py\", line 60, in create_connection\n    for res in socket.getaddrinfo(host, port, family, socket.SOCK_STREAM):\n  File \"C:\\Users\\kubey\\AppData\\Local\\Programs\\Python\\Python39\\lib\\socket.py\", line 954, in getaddrinfo\n    for res in _socket.getaddrinfo(host, port, family, type, proto, flags):\nsocket.gaierror: [Errno 11002] getaddrinfo failed\n\nThe above exception was the direct cause of the following exception:\n\nTraceback (most recent call last):\n  File \"e:\\XRay_ReportGeneration\\.venv\\lib\\site-packages\\urllib3\\connectionpool.py\", line 787, in urlopen\n    response = self._make_request(\n  File \"e:\\XRay_ReportGeneration\\.venv\\lib\\site-packages\\urllib3\\connectionpool.py\", line 488, in _make_request\n    raise new_e\n  File \"e:\\XRay_ReportGeneration\\.venv\\lib\\site-packages\\urllib3\\connectionpool.py\", line 464, in _make_request\n    self._validate_conn(conn)\n  File \"e:\\XRay_ReportGeneration\\.venv\\lib\\site-packages\\urllib3\\connectionpool.py\", line 1093, in _validate_conn\n    conn.connect()\n  File \"e:\\XRay_ReportGeneration\\.venv\\lib\\site-packages\\urllib3\\connection.py\", line 704, in connect\n    self.sock = sock = self._new_conn()\n  File \"e:\\XRay_ReportGeneration\\.venv\\lib\\site-packages\\urllib3\\connection.py\", line 205, in _new_conn\n    raise NameResolutionError(self.host, self, e) from e\nurllib3.exceptions.NameResolutionError: <urllib3.connection.HTTPSConnection object at 0x000002941C966370>: Failed to resolve 'cdn-lfs-us-1.hf.co' ([Errno 11002] getaddrinfo failed)\n\nThe above exception was the direct cause of the following exception:\n\nTraceback (most recent call last):\n  File \"e:\\XRay_ReportGeneration\\.venv\\lib\\site-packages\\requests\\adapters.py\", line 667, in send\n    resp = conn.urlopen(\n  File \"e:\\XRay_ReportGeneration\\.venv\\lib\\site-packages\\urllib3\\connectionpool.py\", line 841, in urlopen\n    retries = retries.increment(\n  File \"e:\\XRay_ReportGeneration\\.venv\\lib\\site-packages\\urllib3\\util\\retry.py\", line 519, in increment\n    raise MaxRetryError(_pool, url, reason) from reason  # type: ignore[arg-type]\nurllib3.exceptions.MaxRetryError: HTTPSConnectionPool(host='cdn-lfs-us-1.hf.co', port=443): Max retries exceeded with url: /repos/ba/83/ba837357c37c4c572f89ebcdffc2867477dbb4768779d332eb303f848c60d0de/d9eee5f23d94405d90b7e9ff88b9443fee42f8528a658f54214c2aba7530d80c?response-content-disposition=inline%3B+filename*%3DUTF-8%27%27model-00002-of-00004.safetensors%3B+filename%3D%22model-00002-of-00004.safetensors%22%3B&Expires=1737673401&Policy=eyJTdGF0ZW1lbnQiOlt7IkNvbmRpdGlvbiI6eyJEYXRlTGVzc1RoYW4iOnsiQVdTOkVwb2NoVGltZSI6MTczNzY3MzQwMX19LCJSZXNvdXJjZSI6Imh0dHBzOi8vY2RuLWxmcy11cy0xLmhmLmNvL3JlcG9zL2JhLzgzL2JhODM3MzU3YzM3YzRjNTcyZjg5ZWJjZGZmYzI4Njc0NzdkYmI0NzY4Nzc5ZDMzMmViMzAzZjg0OGM2MGQwZGUvZDllZWU1ZjIzZDk0NDA1ZDkwYjdlOWZmODhiOTQ0M2ZlZTQyZjg1MjhhNjU4ZjU0MjE0YzJhYmE3NTMwZDgwYz9yZXNwb25zZS1jb250ZW50LWRpc3Bvc2l0aW9uPSoifV19&Signature=XNSt2~qfTVWUm4vxUWQ1edug1Am2c80jgecR62Fx25uZWr9frL2xvoTKMRpzd8g9ujX9~0PqfXMhIHFfhDxkpKpzHkCx0td3lRB5Y9EiwxQKCxBRRxwcFQThrminAH4CmgIhn56xzwaSRwXTh5zJtHE-84mKc7BQl5zmyAHl1~5PcjNh-PP02146p3-ZTU8Vlzs1RBL58yB9HolxcoZrbWmIKw6K8L30TJ27~HEvZWQm0u5UU4eJUyt5bqMJbQeKlatU~LbuBMyo1W43IdR3KLr5AOTzEVMf3oReB38-RCqdJo9xC7OSAnPLjPUDqgRdlRzIZ~dnUUij3vfMoVh5Ew__&Key-Pair-Id=K24J24Z295AEI9 (Caused by NameResolutionError(\"<urllib3.connection.HTTPSConnection object at 0x000002941C966370>: Failed to resolve 'cdn-lfs-us-1.hf.co' ([Errno 11002] getaddrinfo failed)\"))\n\nDuring handling of the above exception, another exception occurred:\n\nTraceback (most recent call last):\n  File \"e:\\XRay_ReportGeneration\\.venv\\lib\\site-packages\\transformers\\pipelines\\base.py\", line 289, in infer_framework_load_model\n    model = model_class.from_pretrained(model, **kwargs)\n  File \"e:\\XRay_ReportGeneration\\.venv\\lib\\site-packages\\transformers\\models\\auto\\auto_factory.py\", line 564, in from_pretrained\n    return model_class.from_pretrained(\n  File \"e:\\XRay_ReportGeneration\\.venv\\lib\\site-packages\\transformers\\modeling_utils.py\", line 3944, in from_pretrained\n    resolved_archive_file, sharded_metadata = get_checkpoint_shard_files(\n  File \"e:\\XRay_ReportGeneration\\.venv\\lib\\site-packages\\transformers\\utils\\hub.py\", line 1098, in get_checkpoint_shard_files\n    cached_filename = cached_file(\n  File \"e:\\XRay_ReportGeneration\\.venv\\lib\\site-packages\\transformers\\utils\\hub.py\", line 403, in cached_file\n    resolved_file = hf_hub_download(\n  File \"e:\\XRay_ReportGeneration\\.venv\\lib\\site-packages\\huggingface_hub\\utils\\_validators.py\", line 114, in _inner_fn\n    return fn(*args, **kwargs)\n  File \"e:\\XRay_ReportGeneration\\.venv\\lib\\site-packages\\huggingface_hub\\file_download.py\", line 860, in hf_hub_download\n    return _hf_hub_download_to_cache_dir(\n  File \"e:\\XRay_ReportGeneration\\.venv\\lib\\site-packages\\huggingface_hub\\file_download.py\", line 1009, in _hf_hub_download_to_cache_dir\n    _download_to_tmp_and_move(\n  File \"e:\\XRay_ReportGeneration\\.venv\\lib\\site-packages\\huggingface_hub\\file_download.py\", line 1543, in _download_to_tmp_and_move\n    http_get(\n  File \"e:\\XRay_ReportGeneration\\.venv\\lib\\site-packages\\huggingface_hub\\file_download.py\", line 469, in http_get\n    return http_get(\n  File \"e:\\XRay_ReportGeneration\\.venv\\lib\\site-packages\\huggingface_hub\\file_download.py\", line 369, in http_get\n    r = _request_wrapper(\n  File \"e:\\XRay_ReportGeneration\\.venv\\lib\\site-packages\\huggingface_hub\\file_download.py\", line 301, in _request_wrapper\n    response = get_session().request(method=method, url=url, **params)\n  File \"e:\\XRay_ReportGeneration\\.venv\\lib\\site-packages\\requests\\sessions.py\", line 589, in request\n    resp = self.send(prep, **send_kwargs)\n  File \"e:\\XRay_ReportGeneration\\.venv\\lib\\site-packages\\requests\\sessions.py\", line 703, in send\n    r = adapter.send(request, **kwargs)\n  File \"e:\\XRay_ReportGeneration\\.venv\\lib\\site-packages\\huggingface_hub\\utils\\_http.py\", line 93, in send\n    return super().send(request, *args, **kwargs)\n  File \"e:\\XRay_ReportGeneration\\.venv\\lib\\site-packages\\requests\\adapters.py\", line 700, in send\n    raise ConnectionError(e, request=request)\nrequests.exceptions.ConnectionError: (MaxRetryError('HTTPSConnectionPool(host=\\'cdn-lfs-us-1.hf.co\\', port=443): Max retries exceeded with url: /repos/ba/83/ba837357c37c4c572f89ebcdffc2867477dbb4768779d332eb303f848c60d0de/d9eee5f23d94405d90b7e9ff88b9443fee42f8528a658f54214c2aba7530d80c?response-content-disposition=inline%3B+filename*%3DUTF-8%27%27model-00002-of-00004.safetensors%3B+filename%3D%22model-00002-of-00004.safetensors%22%3B&Expires=1737673401&Policy=eyJTdGF0ZW1lbnQiOlt7IkNvbmRpdGlvbiI6eyJEYXRlTGVzc1RoYW4iOnsiQVdTOkVwb2NoVGltZSI6MTczNzY3MzQwMX19LCJSZXNvdXJjZSI6Imh0dHBzOi8vY2RuLWxmcy11cy0xLmhmLmNvL3JlcG9zL2JhLzgzL2JhODM3MzU3YzM3YzRjNTcyZjg5ZWJjZGZmYzI4Njc0NzdkYmI0NzY4Nzc5ZDMzMmViMzAzZjg0OGM2MGQwZGUvZDllZWU1ZjIzZDk0NDA1ZDkwYjdlOWZmODhiOTQ0M2ZlZTQyZjg1MjhhNjU4ZjU0MjE0YzJhYmE3NTMwZDgwYz9yZXNwb25zZS1jb250ZW50LWRpc3Bvc2l0aW9uPSoifV19&Signature=XNSt2~qfTVWUm4vxUWQ1edug1Am2c80jgecR62Fx25uZWr9frL2xvoTKMRpzd8g9ujX9~0PqfXMhIHFfhDxkpKpzHkCx0td3lRB5Y9EiwxQKCxBRRxwcFQThrminAH4CmgIhn56xzwaSRwXTh5zJtHE-84mKc7BQl5zmyAHl1~5PcjNh-PP02146p3-ZTU8Vlzs1RBL58yB9HolxcoZrbWmIKw6K8L30TJ27~HEvZWQm0u5UU4eJUyt5bqMJbQeKlatU~LbuBMyo1W43IdR3KLr5AOTzEVMf3oReB38-RCqdJo9xC7OSAnPLjPUDqgRdlRzIZ~dnUUij3vfMoVh5Ew__&Key-Pair-Id=K24J24Z295AEI9 (Caused by NameResolutionError(\"<urllib3.connection.HTTPSConnection object at 0x000002941C966370>: Failed to resolve \\'cdn-lfs-us-1.hf.co\\' ([Errno 11002] getaddrinfo failed)\"))'), '(Request ID: bb7b6f3c-5888-496a-a0ab-ba9959338647)')\n\nwhile loading with LlamaForCausalLM, an error is thrown:\nTraceback (most recent call last):\n  File \"e:\\XRay_ReportGeneration\\.venv\\lib\\site-packages\\urllib3\\connection.py\", line 198, in _new_conn\n    sock = connection.create_connection(\n  File \"e:\\XRay_ReportGeneration\\.venv\\lib\\site-packages\\urllib3\\util\\connection.py\", line 60, in create_connection\n    for res in socket.getaddrinfo(host, port, family, socket.SOCK_STREAM):\n  File \"C:\\Users\\kubey\\AppData\\Local\\Programs\\Python\\Python39\\lib\\socket.py\", line 954, in getaddrinfo\n    for res in _socket.getaddrinfo(host, port, family, type, proto, flags):\nsocket.gaierror: [Errno 11002] getaddrinfo failed\n\nThe above exception was the direct cause of the following exception:\n\nTraceback (most recent call last):\n  File \"e:\\XRay_ReportGeneration\\.venv\\lib\\site-packages\\urllib3\\connectionpool.py\", line 787, in urlopen\n    response = self._make_request(\n  File \"e:\\XRay_ReportGeneration\\.venv\\lib\\site-packages\\urllib3\\connectionpool.py\", line 488, in _make_request\n    raise new_e\n  File \"e:\\XRay_ReportGeneration\\.venv\\lib\\site-packages\\urllib3\\connectionpool.py\", line 464, in _make_request\n    self._validate_conn(conn)\n  File \"e:\\XRay_ReportGeneration\\.venv\\lib\\site-packages\\urllib3\\connectionpool.py\", line 1093, in _validate_conn\n    conn.connect()\n  File \"e:\\XRay_ReportGeneration\\.venv\\lib\\site-packages\\urllib3\\connection.py\", line 704, in connect\n    self.sock = sock = self._new_conn()\n  File \"e:\\XRay_ReportGeneration\\.venv\\lib\\site-packages\\urllib3\\connection.py\", line 205, in _new_conn\n    raise NameResolutionError(self.host, self, e) from e\nurllib3.exceptions.NameResolutionError: <urllib3.connection.HTTPSConnection object at 0x000002941C956C70>: Failed to resolve 'cdn-lfs-us-1.hf.co' ([Errno 11002] getaddrinfo failed)\n\nThe above exception was the direct cause of the following exception:\n\nTraceback (most recent call last):\n  File \"e:\\XRay_ReportGeneration\\.venv\\lib\\site-packages\\requests\\adapters.py\", line 667, in send\n    resp = conn.urlopen(\n  File \"e:\\XRay_ReportGeneration\\.venv\\lib\\site-packages\\urllib3\\connectionpool.py\", line 841, in urlopen\n    retries = retries.increment(\n  File \"e:\\XRay_ReportGeneration\\.venv\\lib\\site-packages\\urllib3\\util\\retry.py\", line 519, in increment\n    raise MaxRetryError(_pool, url, reason) from reason  # type: ignore[arg-type]\nurllib3.exceptions.MaxRetryError: HTTPSConnectionPool(host='cdn-lfs-us-1.hf.co', port=443): Max retries exceeded with url: /repos/ba/83/ba837357c37c4c572f89ebcdffc2867477dbb4768779d332eb303f848c60d0de/d9eee5f23d94405d90b7e9ff88b9443fee42f8528a658f54214c2aba7530d80c?response-content-disposition=inline%3B+filename*%3DUTF-8%27%27model-00002-of-00004.safetensors%3B+filename%3D%22model-00002-of-00004.safetensors%22%3B&Expires=1737672562&Policy=eyJTdGF0ZW1lbnQiOlt7IkNvbmRpdGlvbiI6eyJEYXRlTGVzc1RoYW4iOnsiQVdTOkVwb2NoVGltZSI6MTczNzY3MjU2Mn19LCJSZXNvdXJjZSI6Imh0dHBzOi8vY2RuLWxmcy11cy0xLmhmLmNvL3JlcG9zL2JhLzgzL2JhODM3MzU3YzM3YzRjNTcyZjg5ZWJjZGZmYzI4Njc0NzdkYmI0NzY4Nzc5ZDMzMmViMzAzZjg0OGM2MGQwZGUvZDllZWU1ZjIzZDk0NDA1ZDkwYjdlOWZmODhiOTQ0M2ZlZTQyZjg1MjhhNjU4ZjU0MjE0YzJhYmE3NTMwZDgwYz9yZXNwb25zZS1jb250ZW50LWRpc3Bvc2l0aW9uPSoifV19&Signature=o~99-t6Mcd5gmvK1ZhU-JohX-D~czValn9IKXHZ7fuDS-gWN0J9a5AYxbNZiU~1znfHy0aS9QH4RVBLKoRbI4Iw2L3bErT0fGcFKuU0KxNnukb0MW-7QRubcxmSgGxz0XeFdzMKyw7-N1M~EKvn-pbZNNz4WdX0rbwKvGsNeJ4-GEAhusu3wlVp1O1FRHq8oVU4BttOiXpUFVQ1gO-pqCVhvllHfMgJdRp~KAGE-~NquO8AQkNFjy8Nl32LKYNjKietTML1ZjcYtelIC2fLTWni184zHWynEaPcu9-5nWHq3xdaoyDFuEe1ecZBlUI2Ra~c-0o0M7G2-E4uk0gYueA__&Key-Pair-Id=K24J24Z295AEI9 (Caused by NameResolutionError(\"<urllib3.connection.HTTPSConnection object at 0x000002941C956C70>: Failed to resolve 'cdn-lfs-us-1.hf.co' ([Errno 11002] getaddrinfo failed)\"))\n\nDuring handling of the above exception, another exception occurred:\n\nTraceback (most recent call last):\n  File \"e:\\XRay_ReportGeneration\\.venv\\lib\\site-packages\\transformers\\pipelines\\base.py\", line 289, in infer_framework_load_model\n    model = model_class.from_pretrained(model, **kwargs)\n  File \"e:\\XRay_ReportGeneration\\.venv\\lib\\site-packages\\transformers\\modeling_utils.py\", line 3944, in from_pretrained\n    resolved_archive_file, sharded_metadata = get_checkpoint_shard_files(\n  File \"e:\\XRay_ReportGeneration\\.venv\\lib\\site-packages\\transformers\\utils\\hub.py\", line 1098, in get_checkpoint_shard_files\n    cached_filename = cached_file(\n  File \"e:\\XRay_ReportGeneration\\.venv\\lib\\site-packages\\transformers\\utils\\hub.py\", line 403, in cached_file\n    resolved_file = hf_hub_download(\n  File \"e:\\XRay_ReportGeneration\\.venv\\lib\\site-packages\\huggingface_hub\\utils\\_validators.py\", line 114, in _inner_fn\n    return fn(*args, **kwargs)\n  File \"e:\\XRay_ReportGeneration\\.venv\\lib\\site-packages\\huggingface_hub\\file_download.py\", line 860, in hf_hub_download\n    return _hf_hub_download_to_cache_dir(\n  File \"e:\\XRay_ReportGeneration\\.venv\\lib\\site-packages\\huggingface_hub\\file_download.py\", line 1009, in _hf_hub_download_to_cache_dir\n    _download_to_tmp_and_move(\n  File \"e:\\XRay_ReportGeneration\\.venv\\lib\\site-packages\\huggingface_hub\\file_download.py\", line 1543, in _download_to_tmp_and_move\n    http_get(\n  File \"e:\\XRay_ReportGeneration\\.venv\\lib\\site-packages\\huggingface_hub\\file_download.py\", line 369, in http_get\n    r = _request_wrapper(\n  File \"e:\\XRay_ReportGeneration\\.venv\\lib\\site-packages\\huggingface_hub\\file_download.py\", line 301, in _request_wrapper\n    response = get_session().request(method=method, url=url, **params)\n  File \"e:\\XRay_ReportGeneration\\.venv\\lib\\site-packages\\requests\\sessions.py\", line 589, in request\n    resp = self.send(prep, **send_kwargs)\n  File \"e:\\XRay_ReportGeneration\\.venv\\lib\\site-packages\\requests\\sessions.py\", line 703, in send\n    r = adapter.send(request, **kwargs)\n  File \"e:\\XRay_ReportGeneration\\.venv\\lib\\site-packages\\huggingface_hub\\utils\\_http.py\", line 93, in send\n    return super().send(request, *args, **kwargs)\n  File \"e:\\XRay_ReportGeneration\\.venv\\lib\\site-packages\\requests\\adapters.py\", line 700, in send\n    raise ConnectionError(e, request=request)\nrequests.exceptions.ConnectionError: (MaxRetryError('HTTPSConnectionPool(host=\\'cdn-lfs-us-1.hf.co\\', port=443): Max retries exceeded with url: /repos/ba/83/ba837357c37c4c572f89ebcdffc2867477dbb4768779d332eb303f848c60d0de/d9eee5f23d94405d90b7e9ff88b9443fee42f8528a658f54214c2aba7530d80c?response-content-disposition=inline%3B+filename*%3DUTF-8%27%27model-00002-of-00004.safetensors%3B+filename%3D%22model-00002-of-00004.safetensors%22%3B&Expires=1737672562&Policy=eyJTdGF0ZW1lbnQiOlt7IkNvbmRpdGlvbiI6eyJEYXRlTGVzc1RoYW4iOnsiQVdTOkVwb2NoVGltZSI6MTczNzY3MjU2Mn19LCJSZXNvdXJjZSI6Imh0dHBzOi8vY2RuLWxmcy11cy0xLmhmLmNvL3JlcG9zL2JhLzgzL2JhODM3MzU3YzM3YzRjNTcyZjg5ZWJjZGZmYzI4Njc0NzdkYmI0NzY4Nzc5ZDMzMmViMzAzZjg0OGM2MGQwZGUvZDllZWU1ZjIzZDk0NDA1ZDkwYjdlOWZmODhiOTQ0M2ZlZTQyZjg1MjhhNjU4ZjU0MjE0YzJhYmE3NTMwZDgwYz9yZXNwb25zZS1jb250ZW50LWRpc3Bvc2l0aW9uPSoifV19&Signature=o~99-t6Mcd5gmvK1ZhU-JohX-D~czValn9IKXHZ7fuDS-gWN0J9a5AYxbNZiU~1znfHy0aS9QH4RVBLKoRbI4Iw2L3bErT0fGcFKuU0KxNnukb0MW-7QRubcxmSgGxz0XeFdzMKyw7-N1M~EKvn-pbZNNz4WdX0rbwKvGsNeJ4-GEAhusu3wlVp1O1FRHq8oVU4BttOiXpUFVQ1gO-pqCVhvllHfMgJdRp~KAGE-~NquO8AQkNFjy8Nl32LKYNjKietTML1ZjcYtelIC2fLTWni184zHWynEaPcu9-5nWHq3xdaoyDFuEe1ecZBlUI2Ra~c-0o0M7G2-E4uk0gYueA__&Key-Pair-Id=K24J24Z295AEI9 (Caused by NameResolutionError(\"<urllib3.connection.HTTPSConnection object at 0x000002941C956C70>: Failed to resolve \\'cdn-lfs-us-1.hf.co\\' ([Errno 11002] getaddrinfo failed)\"))'), '(Request ID: 585043b7-bdd4-48ae-a801-7dae8cfe92e5)')\n\n\n",
     "output_type": "error",
     "traceback": [
      "\u001b[1;31m---------------------------------------------------------------------------\u001b[0m",
      "\u001b[1;31mValueError\u001b[0m                                Traceback (most recent call last)",
      "Cell \u001b[1;32mIn[6], line 3\u001b[0m\n\u001b[0;32m      1\u001b[0m model_id \u001b[38;5;241m=\u001b[39m \u001b[38;5;124m\"\u001b[39m\u001b[38;5;124mmeta-llama/Meta-Llama-3-8B\u001b[39m\u001b[38;5;124m\"\u001b[39m \u001b[38;5;66;03m# Meta-Llama-3-70B\u001b[39;00m\n\u001b[1;32m----> 3\u001b[0m pipeline \u001b[38;5;241m=\u001b[39m \u001b[43mtransformers\u001b[49m\u001b[38;5;241;43m.\u001b[39;49m\u001b[43mpipeline\u001b[49m\u001b[43m(\u001b[49m\u001b[38;5;124;43m\"\u001b[39;49m\u001b[38;5;124;43mtext-generation\u001b[39;49m\u001b[38;5;124;43m\"\u001b[39;49m\u001b[43m,\u001b[49m\u001b[43m \u001b[49m\u001b[43mmodel\u001b[49m\u001b[38;5;241;43m=\u001b[39;49m\u001b[43mmodel_id\u001b[49m\u001b[43m,\u001b[49m\u001b[43m \u001b[49m\u001b[43mmodel_kwargs\u001b[49m\u001b[38;5;241;43m=\u001b[39;49m\u001b[43m{\u001b[49m\u001b[38;5;124;43m\"\u001b[39;49m\u001b[38;5;124;43mtorch_dtype\u001b[39;49m\u001b[38;5;124;43m\"\u001b[39;49m\u001b[43m:\u001b[49m\u001b[43m \u001b[49m\u001b[43mtorch\u001b[49m\u001b[38;5;241;43m.\u001b[39;49m\u001b[43mbfloat16\u001b[49m\u001b[43m}\u001b[49m\u001b[43m,\u001b[49m\u001b[43m \u001b[49m\u001b[43mdevice_map\u001b[49m\u001b[38;5;241;43m=\u001b[39;49m\u001b[38;5;124;43m\"\u001b[39;49m\u001b[38;5;124;43mauto\u001b[39;49m\u001b[38;5;124;43m\"\u001b[39;49m\u001b[43m)\u001b[49m\n\u001b[0;32m      4\u001b[0m pipeline(\u001b[38;5;124m\"\u001b[39m\u001b[38;5;124mHey how are you doing today?\u001b[39m\u001b[38;5;124m\"\u001b[39m)\n",
      "File \u001b[1;32me:\\XRay_ReportGeneration\\.venv\\lib\\site-packages\\transformers\\pipelines\\__init__.py:940\u001b[0m, in \u001b[0;36mpipeline\u001b[1;34m(task, model, config, tokenizer, feature_extractor, image_processor, processor, framework, revision, use_fast, token, device, device_map, torch_dtype, trust_remote_code, model_kwargs, pipeline_class, **kwargs)\u001b[0m\n\u001b[0;32m    938\u001b[0m \u001b[38;5;28;01mif\u001b[39;00m \u001b[38;5;28misinstance\u001b[39m(model, \u001b[38;5;28mstr\u001b[39m) \u001b[38;5;129;01mor\u001b[39;00m framework \u001b[38;5;129;01mis\u001b[39;00m \u001b[38;5;28;01mNone\u001b[39;00m:\n\u001b[0;32m    939\u001b[0m     model_classes \u001b[38;5;241m=\u001b[39m {\u001b[38;5;124m\"\u001b[39m\u001b[38;5;124mtf\u001b[39m\u001b[38;5;124m\"\u001b[39m: targeted_task[\u001b[38;5;124m\"\u001b[39m\u001b[38;5;124mtf\u001b[39m\u001b[38;5;124m\"\u001b[39m], \u001b[38;5;124m\"\u001b[39m\u001b[38;5;124mpt\u001b[39m\u001b[38;5;124m\"\u001b[39m: targeted_task[\u001b[38;5;124m\"\u001b[39m\u001b[38;5;124mpt\u001b[39m\u001b[38;5;124m\"\u001b[39m]}\n\u001b[1;32m--> 940\u001b[0m     framework, model \u001b[38;5;241m=\u001b[39m infer_framework_load_model(\n\u001b[0;32m    941\u001b[0m         model,\n\u001b[0;32m    942\u001b[0m         model_classes\u001b[38;5;241m=\u001b[39mmodel_classes,\n\u001b[0;32m    943\u001b[0m         config\u001b[38;5;241m=\u001b[39mconfig,\n\u001b[0;32m    944\u001b[0m         framework\u001b[38;5;241m=\u001b[39mframework,\n\u001b[0;32m    945\u001b[0m         task\u001b[38;5;241m=\u001b[39mtask,\n\u001b[0;32m    946\u001b[0m         \u001b[38;5;241m*\u001b[39m\u001b[38;5;241m*\u001b[39mhub_kwargs,\n\u001b[0;32m    947\u001b[0m         \u001b[38;5;241m*\u001b[39m\u001b[38;5;241m*\u001b[39mmodel_kwargs,\n\u001b[0;32m    948\u001b[0m     )\n\u001b[0;32m    950\u001b[0m model_config \u001b[38;5;241m=\u001b[39m model\u001b[38;5;241m.\u001b[39mconfig\n\u001b[0;32m    951\u001b[0m hub_kwargs[\u001b[38;5;124m\"\u001b[39m\u001b[38;5;124m_commit_hash\u001b[39m\u001b[38;5;124m\"\u001b[39m] \u001b[38;5;241m=\u001b[39m model\u001b[38;5;241m.\u001b[39mconfig\u001b[38;5;241m.\u001b[39m_commit_hash\n",
      "File \u001b[1;32me:\\XRay_ReportGeneration\\.venv\\lib\\site-packages\\transformers\\pipelines\\base.py:302\u001b[0m, in \u001b[0;36minfer_framework_load_model\u001b[1;34m(model, config, model_classes, task, framework, **model_kwargs)\u001b[0m\n\u001b[0;32m    300\u001b[0m         \u001b[38;5;28;01mfor\u001b[39;00m class_name, trace \u001b[38;5;129;01min\u001b[39;00m all_traceback\u001b[38;5;241m.\u001b[39mitems():\n\u001b[0;32m    301\u001b[0m             error \u001b[38;5;241m+\u001b[39m\u001b[38;5;241m=\u001b[39m \u001b[38;5;124mf\u001b[39m\u001b[38;5;124m\"\u001b[39m\u001b[38;5;124mwhile loading with \u001b[39m\u001b[38;5;132;01m{\u001b[39;00mclass_name\u001b[38;5;132;01m}\u001b[39;00m\u001b[38;5;124m, an error is thrown:\u001b[39m\u001b[38;5;130;01m\\n\u001b[39;00m\u001b[38;5;132;01m{\u001b[39;00mtrace\u001b[38;5;132;01m}\u001b[39;00m\u001b[38;5;130;01m\\n\u001b[39;00m\u001b[38;5;124m\"\u001b[39m\n\u001b[1;32m--> 302\u001b[0m         \u001b[38;5;28;01mraise\u001b[39;00m \u001b[38;5;167;01mValueError\u001b[39;00m(\n\u001b[0;32m    303\u001b[0m             \u001b[38;5;124mf\u001b[39m\u001b[38;5;124m\"\u001b[39m\u001b[38;5;124mCould not load model \u001b[39m\u001b[38;5;132;01m{\u001b[39;00mmodel\u001b[38;5;132;01m}\u001b[39;00m\u001b[38;5;124m with any of the following classes: \u001b[39m\u001b[38;5;132;01m{\u001b[39;00mclass_tuple\u001b[38;5;132;01m}\u001b[39;00m\u001b[38;5;124m. See the original errors:\u001b[39m\u001b[38;5;130;01m\\n\u001b[39;00m\u001b[38;5;130;01m\\n\u001b[39;00m\u001b[38;5;132;01m{\u001b[39;00merror\u001b[38;5;132;01m}\u001b[39;00m\u001b[38;5;130;01m\\n\u001b[39;00m\u001b[38;5;124m\"\u001b[39m\n\u001b[0;32m    304\u001b[0m         )\n\u001b[0;32m    306\u001b[0m \u001b[38;5;28;01mif\u001b[39;00m framework \u001b[38;5;129;01mis\u001b[39;00m \u001b[38;5;28;01mNone\u001b[39;00m:\n\u001b[0;32m    307\u001b[0m     framework \u001b[38;5;241m=\u001b[39m infer_framework(model\u001b[38;5;241m.\u001b[39m\u001b[38;5;18m__class__\u001b[39m)\n",
      "\u001b[1;31mValueError\u001b[0m: Could not load model meta-llama/Meta-Llama-3-8B with any of the following classes: (<class 'transformers.models.auto.modeling_auto.AutoModelForCausalLM'>, <class 'transformers.models.llama.modeling_llama.LlamaForCausalLM'>). See the original errors:\n\nwhile loading with AutoModelForCausalLM, an error is thrown:\nTraceback (most recent call last):\n  File \"e:\\XRay_ReportGeneration\\.venv\\lib\\site-packages\\urllib3\\response.py\", line 754, in _error_catcher\n    yield\n  File \"e:\\XRay_ReportGeneration\\.venv\\lib\\site-packages\\urllib3\\response.py\", line 879, in _raw_read\n    data = self._fp_read(amt, read1=read1) if not fp_closed else b\"\"\n  File \"e:\\XRay_ReportGeneration\\.venv\\lib\\site-packages\\urllib3\\response.py\", line 862, in _fp_read\n    return self._fp.read(amt) if amt is not None else self._fp.read()\n  File \"C:\\Users\\kubey\\AppData\\Local\\Programs\\Python\\Python39\\lib\\http\\client.py\", line 463, in read\n    n = self.readinto(b)\n  File \"C:\\Users\\kubey\\AppData\\Local\\Programs\\Python\\Python39\\lib\\http\\client.py\", line 507, in readinto\n    n = self.fp.readinto(b)\n  File \"C:\\Users\\kubey\\AppData\\Local\\Programs\\Python\\Python39\\lib\\socket.py\", line 704, in readinto\n    return self._sock.recv_into(b)\n  File \"C:\\Users\\kubey\\AppData\\Local\\Programs\\Python\\Python39\\lib\\ssl.py\", line 1242, in recv_into\n    return self.read(nbytes, buffer)\n  File \"C:\\Users\\kubey\\AppData\\Local\\Programs\\Python\\Python39\\lib\\ssl.py\", line 1100, in read\n    return self._sslobj.read(len, buffer)\nsocket.timeout: The read operation timed out\n\nThe above exception was the direct cause of the following exception:\n\nTraceback (most recent call last):\n  File \"e:\\XRay_ReportGeneration\\.venv\\lib\\site-packages\\requests\\models.py\", line 820, in generate\n    yield from self.raw.stream(chunk_size, decode_content=True)\n  File \"e:\\XRay_ReportGeneration\\.venv\\lib\\site-packages\\urllib3\\response.py\", line 1066, in stream\n    data = self.read(amt=amt, decode_content=decode_content)\n  File \"e:\\XRay_ReportGeneration\\.venv\\lib\\site-packages\\urllib3\\response.py\", line 955, in read\n    data = self._raw_read(amt)\n  File \"e:\\XRay_ReportGeneration\\.venv\\lib\\site-packages\\urllib3\\response.py\", line 908, in _raw_read\n    self._fp.close()\n  File \"C:\\Users\\kubey\\AppData\\Local\\Programs\\Python\\Python39\\lib\\contextlib.py\", line 137, in __exit__\n    self.gen.throw(typ, value, traceback)\n  File \"e:\\XRay_ReportGeneration\\.venv\\lib\\site-packages\\urllib3\\response.py\", line 759, in _error_catcher\n    raise ReadTimeoutError(self._pool, None, \"Read timed out.\") from e  # type: ignore[arg-type]\nurllib3.exceptions.ReadTimeoutError: HTTPSConnectionPool(host='cdn-lfs-us-1.hf.co', port=443): Read timed out.\n\nDuring handling of the above exception, another exception occurred:\n\nTraceback (most recent call last):\n  File \"e:\\XRay_ReportGeneration\\.venv\\lib\\site-packages\\huggingface_hub\\file_download.py\", line 452, in http_get\n    for chunk in r.iter_content(chunk_size=constants.DOWNLOAD_CHUNK_SIZE):\n  File \"e:\\XRay_ReportGeneration\\.venv\\lib\\site-packages\\requests\\models.py\", line 826, in generate\n    raise ConnectionError(e)\nrequests.exceptions.ConnectionError: HTTPSConnectionPool(host='cdn-lfs-us-1.hf.co', port=443): Read timed out.\n\nDuring handling of the above exception, another exception occurred:\n\nTraceback (most recent call last):\n  File \"e:\\XRay_ReportGeneration\\.venv\\lib\\site-packages\\urllib3\\connection.py\", line 198, in _new_conn\n    sock = connection.create_connection(\n  File \"e:\\XRay_ReportGeneration\\.venv\\lib\\site-packages\\urllib3\\util\\connection.py\", line 60, in create_connection\n    for res in socket.getaddrinfo(host, port, family, socket.SOCK_STREAM):\n  File \"C:\\Users\\kubey\\AppData\\Local\\Programs\\Python\\Python39\\lib\\socket.py\", line 954, in getaddrinfo\n    for res in _socket.getaddrinfo(host, port, family, type, proto, flags):\nsocket.gaierror: [Errno 11002] getaddrinfo failed\n\nThe above exception was the direct cause of the following exception:\n\nTraceback (most recent call last):\n  File \"e:\\XRay_ReportGeneration\\.venv\\lib\\site-packages\\urllib3\\connectionpool.py\", line 787, in urlopen\n    response = self._make_request(\n  File \"e:\\XRay_ReportGeneration\\.venv\\lib\\site-packages\\urllib3\\connectionpool.py\", line 488, in _make_request\n    raise new_e\n  File \"e:\\XRay_ReportGeneration\\.venv\\lib\\site-packages\\urllib3\\connectionpool.py\", line 464, in _make_request\n    self._validate_conn(conn)\n  File \"e:\\XRay_ReportGeneration\\.venv\\lib\\site-packages\\urllib3\\connectionpool.py\", line 1093, in _validate_conn\n    conn.connect()\n  File \"e:\\XRay_ReportGeneration\\.venv\\lib\\site-packages\\urllib3\\connection.py\", line 704, in connect\n    self.sock = sock = self._new_conn()\n  File \"e:\\XRay_ReportGeneration\\.venv\\lib\\site-packages\\urllib3\\connection.py\", line 205, in _new_conn\n    raise NameResolutionError(self.host, self, e) from e\nurllib3.exceptions.NameResolutionError: <urllib3.connection.HTTPSConnection object at 0x000002941C966370>: Failed to resolve 'cdn-lfs-us-1.hf.co' ([Errno 11002] getaddrinfo failed)\n\nThe above exception was the direct cause of the following exception:\n\nTraceback (most recent call last):\n  File \"e:\\XRay_ReportGeneration\\.venv\\lib\\site-packages\\requests\\adapters.py\", line 667, in send\n    resp = conn.urlopen(\n  File \"e:\\XRay_ReportGeneration\\.venv\\lib\\site-packages\\urllib3\\connectionpool.py\", line 841, in urlopen\n    retries = retries.increment(\n  File \"e:\\XRay_ReportGeneration\\.venv\\lib\\site-packages\\urllib3\\util\\retry.py\", line 519, in increment\n    raise MaxRetryError(_pool, url, reason) from reason  # type: ignore[arg-type]\nurllib3.exceptions.MaxRetryError: HTTPSConnectionPool(host='cdn-lfs-us-1.hf.co', port=443): Max retries exceeded with url: /repos/ba/83/ba837357c37c4c572f89ebcdffc2867477dbb4768779d332eb303f848c60d0de/d9eee5f23d94405d90b7e9ff88b9443fee42f8528a658f54214c2aba7530d80c?response-content-disposition=inline%3B+filename*%3DUTF-8%27%27model-00002-of-00004.safetensors%3B+filename%3D%22model-00002-of-00004.safetensors%22%3B&Expires=1737673401&Policy=eyJTdGF0ZW1lbnQiOlt7IkNvbmRpdGlvbiI6eyJEYXRlTGVzc1RoYW4iOnsiQVdTOkVwb2NoVGltZSI6MTczNzY3MzQwMX19LCJSZXNvdXJjZSI6Imh0dHBzOi8vY2RuLWxmcy11cy0xLmhmLmNvL3JlcG9zL2JhLzgzL2JhODM3MzU3YzM3YzRjNTcyZjg5ZWJjZGZmYzI4Njc0NzdkYmI0NzY4Nzc5ZDMzMmViMzAzZjg0OGM2MGQwZGUvZDllZWU1ZjIzZDk0NDA1ZDkwYjdlOWZmODhiOTQ0M2ZlZTQyZjg1MjhhNjU4ZjU0MjE0YzJhYmE3NTMwZDgwYz9yZXNwb25zZS1jb250ZW50LWRpc3Bvc2l0aW9uPSoifV19&Signature=XNSt2~qfTVWUm4vxUWQ1edug1Am2c80jgecR62Fx25uZWr9frL2xvoTKMRpzd8g9ujX9~0PqfXMhIHFfhDxkpKpzHkCx0td3lRB5Y9EiwxQKCxBRRxwcFQThrminAH4CmgIhn56xzwaSRwXTh5zJtHE-84mKc7BQl5zmyAHl1~5PcjNh-PP02146p3-ZTU8Vlzs1RBL58yB9HolxcoZrbWmIKw6K8L30TJ27~HEvZWQm0u5UU4eJUyt5bqMJbQeKlatU~LbuBMyo1W43IdR3KLr5AOTzEVMf3oReB38-RCqdJo9xC7OSAnPLjPUDqgRdlRzIZ~dnUUij3vfMoVh5Ew__&Key-Pair-Id=K24J24Z295AEI9 (Caused by NameResolutionError(\"<urllib3.connection.HTTPSConnection object at 0x000002941C966370>: Failed to resolve 'cdn-lfs-us-1.hf.co' ([Errno 11002] getaddrinfo failed)\"))\n\nDuring handling of the above exception, another exception occurred:\n\nTraceback (most recent call last):\n  File \"e:\\XRay_ReportGeneration\\.venv\\lib\\site-packages\\transformers\\pipelines\\base.py\", line 289, in infer_framework_load_model\n    model = model_class.from_pretrained(model, **kwargs)\n  File \"e:\\XRay_ReportGeneration\\.venv\\lib\\site-packages\\transformers\\models\\auto\\auto_factory.py\", line 564, in from_pretrained\n    return model_class.from_pretrained(\n  File \"e:\\XRay_ReportGeneration\\.venv\\lib\\site-packages\\transformers\\modeling_utils.py\", line 3944, in from_pretrained\n    resolved_archive_file, sharded_metadata = get_checkpoint_shard_files(\n  File \"e:\\XRay_ReportGeneration\\.venv\\lib\\site-packages\\transformers\\utils\\hub.py\", line 1098, in get_checkpoint_shard_files\n    cached_filename = cached_file(\n  File \"e:\\XRay_ReportGeneration\\.venv\\lib\\site-packages\\transformers\\utils\\hub.py\", line 403, in cached_file\n    resolved_file = hf_hub_download(\n  File \"e:\\XRay_ReportGeneration\\.venv\\lib\\site-packages\\huggingface_hub\\utils\\_validators.py\", line 114, in _inner_fn\n    return fn(*args, **kwargs)\n  File \"e:\\XRay_ReportGeneration\\.venv\\lib\\site-packages\\huggingface_hub\\file_download.py\", line 860, in hf_hub_download\n    return _hf_hub_download_to_cache_dir(\n  File \"e:\\XRay_ReportGeneration\\.venv\\lib\\site-packages\\huggingface_hub\\file_download.py\", line 1009, in _hf_hub_download_to_cache_dir\n    _download_to_tmp_and_move(\n  File \"e:\\XRay_ReportGeneration\\.venv\\lib\\site-packages\\huggingface_hub\\file_download.py\", line 1543, in _download_to_tmp_and_move\n    http_get(\n  File \"e:\\XRay_ReportGeneration\\.venv\\lib\\site-packages\\huggingface_hub\\file_download.py\", line 469, in http_get\n    return http_get(\n  File \"e:\\XRay_ReportGeneration\\.venv\\lib\\site-packages\\huggingface_hub\\file_download.py\", line 369, in http_get\n    r = _request_wrapper(\n  File \"e:\\XRay_ReportGeneration\\.venv\\lib\\site-packages\\huggingface_hub\\file_download.py\", line 301, in _request_wrapper\n    response = get_session().request(method=method, url=url, **params)\n  File \"e:\\XRay_ReportGeneration\\.venv\\lib\\site-packages\\requests\\sessions.py\", line 589, in request\n    resp = self.send(prep, **send_kwargs)\n  File \"e:\\XRay_ReportGeneration\\.venv\\lib\\site-packages\\requests\\sessions.py\", line 703, in send\n    r = adapter.send(request, **kwargs)\n  File \"e:\\XRay_ReportGeneration\\.venv\\lib\\site-packages\\huggingface_hub\\utils\\_http.py\", line 93, in send\n    return super().send(request, *args, **kwargs)\n  File \"e:\\XRay_ReportGeneration\\.venv\\lib\\site-packages\\requests\\adapters.py\", line 700, in send\n    raise ConnectionError(e, request=request)\nrequests.exceptions.ConnectionError: (MaxRetryError('HTTPSConnectionPool(host=\\'cdn-lfs-us-1.hf.co\\', port=443): Max retries exceeded with url: /repos/ba/83/ba837357c37c4c572f89ebcdffc2867477dbb4768779d332eb303f848c60d0de/d9eee5f23d94405d90b7e9ff88b9443fee42f8528a658f54214c2aba7530d80c?response-content-disposition=inline%3B+filename*%3DUTF-8%27%27model-00002-of-00004.safetensors%3B+filename%3D%22model-00002-of-00004.safetensors%22%3B&Expires=1737673401&Policy=eyJTdGF0ZW1lbnQiOlt7IkNvbmRpdGlvbiI6eyJEYXRlTGVzc1RoYW4iOnsiQVdTOkVwb2NoVGltZSI6MTczNzY3MzQwMX19LCJSZXNvdXJjZSI6Imh0dHBzOi8vY2RuLWxmcy11cy0xLmhmLmNvL3JlcG9zL2JhLzgzL2JhODM3MzU3YzM3YzRjNTcyZjg5ZWJjZGZmYzI4Njc0NzdkYmI0NzY4Nzc5ZDMzMmViMzAzZjg0OGM2MGQwZGUvZDllZWU1ZjIzZDk0NDA1ZDkwYjdlOWZmODhiOTQ0M2ZlZTQyZjg1MjhhNjU4ZjU0MjE0YzJhYmE3NTMwZDgwYz9yZXNwb25zZS1jb250ZW50LWRpc3Bvc2l0aW9uPSoifV19&Signature=XNSt2~qfTVWUm4vxUWQ1edug1Am2c80jgecR62Fx25uZWr9frL2xvoTKMRpzd8g9ujX9~0PqfXMhIHFfhDxkpKpzHkCx0td3lRB5Y9EiwxQKCxBRRxwcFQThrminAH4CmgIhn56xzwaSRwXTh5zJtHE-84mKc7BQl5zmyAHl1~5PcjNh-PP02146p3-ZTU8Vlzs1RBL58yB9HolxcoZrbWmIKw6K8L30TJ27~HEvZWQm0u5UU4eJUyt5bqMJbQeKlatU~LbuBMyo1W43IdR3KLr5AOTzEVMf3oReB38-RCqdJo9xC7OSAnPLjPUDqgRdlRzIZ~dnUUij3vfMoVh5Ew__&Key-Pair-Id=K24J24Z295AEI9 (Caused by NameResolutionError(\"<urllib3.connection.HTTPSConnection object at 0x000002941C966370>: Failed to resolve \\'cdn-lfs-us-1.hf.co\\' ([Errno 11002] getaddrinfo failed)\"))'), '(Request ID: bb7b6f3c-5888-496a-a0ab-ba9959338647)')\n\nwhile loading with LlamaForCausalLM, an error is thrown:\nTraceback (most recent call last):\n  File \"e:\\XRay_ReportGeneration\\.venv\\lib\\site-packages\\urllib3\\connection.py\", line 198, in _new_conn\n    sock = connection.create_connection(\n  File \"e:\\XRay_ReportGeneration\\.venv\\lib\\site-packages\\urllib3\\util\\connection.py\", line 60, in create_connection\n    for res in socket.getaddrinfo(host, port, family, socket.SOCK_STREAM):\n  File \"C:\\Users\\kubey\\AppData\\Local\\Programs\\Python\\Python39\\lib\\socket.py\", line 954, in getaddrinfo\n    for res in _socket.getaddrinfo(host, port, family, type, proto, flags):\nsocket.gaierror: [Errno 11002] getaddrinfo failed\n\nThe above exception was the direct cause of the following exception:\n\nTraceback (most recent call last):\n  File \"e:\\XRay_ReportGeneration\\.venv\\lib\\site-packages\\urllib3\\connectionpool.py\", line 787, in urlopen\n    response = self._make_request(\n  File \"e:\\XRay_ReportGeneration\\.venv\\lib\\site-packages\\urllib3\\connectionpool.py\", line 488, in _make_request\n    raise new_e\n  File \"e:\\XRay_ReportGeneration\\.venv\\lib\\site-packages\\urllib3\\connectionpool.py\", line 464, in _make_request\n    self._validate_conn(conn)\n  File \"e:\\XRay_ReportGeneration\\.venv\\lib\\site-packages\\urllib3\\connectionpool.py\", line 1093, in _validate_conn\n    conn.connect()\n  File \"e:\\XRay_ReportGeneration\\.venv\\lib\\site-packages\\urllib3\\connection.py\", line 704, in connect\n    self.sock = sock = self._new_conn()\n  File \"e:\\XRay_ReportGeneration\\.venv\\lib\\site-packages\\urllib3\\connection.py\", line 205, in _new_conn\n    raise NameResolutionError(self.host, self, e) from e\nurllib3.exceptions.NameResolutionError: <urllib3.connection.HTTPSConnection object at 0x000002941C956C70>: Failed to resolve 'cdn-lfs-us-1.hf.co' ([Errno 11002] getaddrinfo failed)\n\nThe above exception was the direct cause of the following exception:\n\nTraceback (most recent call last):\n  File \"e:\\XRay_ReportGeneration\\.venv\\lib\\site-packages\\requests\\adapters.py\", line 667, in send\n    resp = conn.urlopen(\n  File \"e:\\XRay_ReportGeneration\\.venv\\lib\\site-packages\\urllib3\\connectionpool.py\", line 841, in urlopen\n    retries = retries.increment(\n  File \"e:\\XRay_ReportGeneration\\.venv\\lib\\site-packages\\urllib3\\util\\retry.py\", line 519, in increment\n    raise MaxRetryError(_pool, url, reason) from reason  # type: ignore[arg-type]\nurllib3.exceptions.MaxRetryError: HTTPSConnectionPool(host='cdn-lfs-us-1.hf.co', port=443): Max retries exceeded with url: /repos/ba/83/ba837357c37c4c572f89ebcdffc2867477dbb4768779d332eb303f848c60d0de/d9eee5f23d94405d90b7e9ff88b9443fee42f8528a658f54214c2aba7530d80c?response-content-disposition=inline%3B+filename*%3DUTF-8%27%27model-00002-of-00004.safetensors%3B+filename%3D%22model-00002-of-00004.safetensors%22%3B&Expires=1737672562&Policy=eyJTdGF0ZW1lbnQiOlt7IkNvbmRpdGlvbiI6eyJEYXRlTGVzc1RoYW4iOnsiQVdTOkVwb2NoVGltZSI6MTczNzY3MjU2Mn19LCJSZXNvdXJjZSI6Imh0dHBzOi8vY2RuLWxmcy11cy0xLmhmLmNvL3JlcG9zL2JhLzgzL2JhODM3MzU3YzM3YzRjNTcyZjg5ZWJjZGZmYzI4Njc0NzdkYmI0NzY4Nzc5ZDMzMmViMzAzZjg0OGM2MGQwZGUvZDllZWU1ZjIzZDk0NDA1ZDkwYjdlOWZmODhiOTQ0M2ZlZTQyZjg1MjhhNjU4ZjU0MjE0YzJhYmE3NTMwZDgwYz9yZXNwb25zZS1jb250ZW50LWRpc3Bvc2l0aW9uPSoifV19&Signature=o~99-t6Mcd5gmvK1ZhU-JohX-D~czValn9IKXHZ7fuDS-gWN0J9a5AYxbNZiU~1znfHy0aS9QH4RVBLKoRbI4Iw2L3bErT0fGcFKuU0KxNnukb0MW-7QRubcxmSgGxz0XeFdzMKyw7-N1M~EKvn-pbZNNz4WdX0rbwKvGsNeJ4-GEAhusu3wlVp1O1FRHq8oVU4BttOiXpUFVQ1gO-pqCVhvllHfMgJdRp~KAGE-~NquO8AQkNFjy8Nl32LKYNjKietTML1ZjcYtelIC2fLTWni184zHWynEaPcu9-5nWHq3xdaoyDFuEe1ecZBlUI2Ra~c-0o0M7G2-E4uk0gYueA__&Key-Pair-Id=K24J24Z295AEI9 (Caused by NameResolutionError(\"<urllib3.connection.HTTPSConnection object at 0x000002941C956C70>: Failed to resolve 'cdn-lfs-us-1.hf.co' ([Errno 11002] getaddrinfo failed)\"))\n\nDuring handling of the above exception, another exception occurred:\n\nTraceback (most recent call last):\n  File \"e:\\XRay_ReportGeneration\\.venv\\lib\\site-packages\\transformers\\pipelines\\base.py\", line 289, in infer_framework_load_model\n    model = model_class.from_pretrained(model, **kwargs)\n  File \"e:\\XRay_ReportGeneration\\.venv\\lib\\site-packages\\transformers\\modeling_utils.py\", line 3944, in from_pretrained\n    resolved_archive_file, sharded_metadata = get_checkpoint_shard_files(\n  File \"e:\\XRay_ReportGeneration\\.venv\\lib\\site-packages\\transformers\\utils\\hub.py\", line 1098, in get_checkpoint_shard_files\n    cached_filename = cached_file(\n  File \"e:\\XRay_ReportGeneration\\.venv\\lib\\site-packages\\transformers\\utils\\hub.py\", line 403, in cached_file\n    resolved_file = hf_hub_download(\n  File \"e:\\XRay_ReportGeneration\\.venv\\lib\\site-packages\\huggingface_hub\\utils\\_validators.py\", line 114, in _inner_fn\n    return fn(*args, **kwargs)\n  File \"e:\\XRay_ReportGeneration\\.venv\\lib\\site-packages\\huggingface_hub\\file_download.py\", line 860, in hf_hub_download\n    return _hf_hub_download_to_cache_dir(\n  File \"e:\\XRay_ReportGeneration\\.venv\\lib\\site-packages\\huggingface_hub\\file_download.py\", line 1009, in _hf_hub_download_to_cache_dir\n    _download_to_tmp_and_move(\n  File \"e:\\XRay_ReportGeneration\\.venv\\lib\\site-packages\\huggingface_hub\\file_download.py\", line 1543, in _download_to_tmp_and_move\n    http_get(\n  File \"e:\\XRay_ReportGeneration\\.venv\\lib\\site-packages\\huggingface_hub\\file_download.py\", line 369, in http_get\n    r = _request_wrapper(\n  File \"e:\\XRay_ReportGeneration\\.venv\\lib\\site-packages\\huggingface_hub\\file_download.py\", line 301, in _request_wrapper\n    response = get_session().request(method=method, url=url, **params)\n  File \"e:\\XRay_ReportGeneration\\.venv\\lib\\site-packages\\requests\\sessions.py\", line 589, in request\n    resp = self.send(prep, **send_kwargs)\n  File \"e:\\XRay_ReportGeneration\\.venv\\lib\\site-packages\\requests\\sessions.py\", line 703, in send\n    r = adapter.send(request, **kwargs)\n  File \"e:\\XRay_ReportGeneration\\.venv\\lib\\site-packages\\huggingface_hub\\utils\\_http.py\", line 93, in send\n    return super().send(request, *args, **kwargs)\n  File \"e:\\XRay_ReportGeneration\\.venv\\lib\\site-packages\\requests\\adapters.py\", line 700, in send\n    raise ConnectionError(e, request=request)\nrequests.exceptions.ConnectionError: (MaxRetryError('HTTPSConnectionPool(host=\\'cdn-lfs-us-1.hf.co\\', port=443): Max retries exceeded with url: /repos/ba/83/ba837357c37c4c572f89ebcdffc2867477dbb4768779d332eb303f848c60d0de/d9eee5f23d94405d90b7e9ff88b9443fee42f8528a658f54214c2aba7530d80c?response-content-disposition=inline%3B+filename*%3DUTF-8%27%27model-00002-of-00004.safetensors%3B+filename%3D%22model-00002-of-00004.safetensors%22%3B&Expires=1737672562&Policy=eyJTdGF0ZW1lbnQiOlt7IkNvbmRpdGlvbiI6eyJEYXRlTGVzc1RoYW4iOnsiQVdTOkVwb2NoVGltZSI6MTczNzY3MjU2Mn19LCJSZXNvdXJjZSI6Imh0dHBzOi8vY2RuLWxmcy11cy0xLmhmLmNvL3JlcG9zL2JhLzgzL2JhODM3MzU3YzM3YzRjNTcyZjg5ZWJjZGZmYzI4Njc0NzdkYmI0NzY4Nzc5ZDMzMmViMzAzZjg0OGM2MGQwZGUvZDllZWU1ZjIzZDk0NDA1ZDkwYjdlOWZmODhiOTQ0M2ZlZTQyZjg1MjhhNjU4ZjU0MjE0YzJhYmE3NTMwZDgwYz9yZXNwb25zZS1jb250ZW50LWRpc3Bvc2l0aW9uPSoifV19&Signature=o~99-t6Mcd5gmvK1ZhU-JohX-D~czValn9IKXHZ7fuDS-gWN0J9a5AYxbNZiU~1znfHy0aS9QH4RVBLKoRbI4Iw2L3bErT0fGcFKuU0KxNnukb0MW-7QRubcxmSgGxz0XeFdzMKyw7-N1M~EKvn-pbZNNz4WdX0rbwKvGsNeJ4-GEAhusu3wlVp1O1FRHq8oVU4BttOiXpUFVQ1gO-pqCVhvllHfMgJdRp~KAGE-~NquO8AQkNFjy8Nl32LKYNjKietTML1ZjcYtelIC2fLTWni184zHWynEaPcu9-5nWHq3xdaoyDFuEe1ecZBlUI2Ra~c-0o0M7G2-E4uk0gYueA__&Key-Pair-Id=K24J24Z295AEI9 (Caused by NameResolutionError(\"<urllib3.connection.HTTPSConnection object at 0x000002941C956C70>: Failed to resolve \\'cdn-lfs-us-1.hf.co\\' ([Errno 11002] getaddrinfo failed)\"))'), '(Request ID: 585043b7-bdd4-48ae-a801-7dae8cfe92e5)')\n\n\n"
     ]
    }
   ],
   "source": [
    "model_id = \"meta-llama/Meta-Llama-3-8B\" # Meta-Llama-3-70B - takes too long to donwload\n",
    "\n",
    "pipeline = transformers.pipeline(\"text-generation\", model=model_id, model_kwargs={\"torch_dtype\": torch.bfloat16}, device_map=\"auto\")\n",
    "pipeline(\"Hey how are you doing today?\")"
   ]
  },
  {
   "cell_type": "code",
   "execution_count": null,
   "metadata": {},
   "outputs": [],
   "source": [
    "import json\n",
    "\n",
    "\n",
    "# Load the LLaMA model and tokenizer\n",
    "model_name = \"meta-llama/LLaMA-7B\"  # Example model\n",
    "tokenizer = LlamaTokenizer.from_pretrained(model_name)\n",
    "model = LlamaForCausalLM.from_pretrained(model_name)\n",
    "\n",
    "def reorganize_report_llama(report):\n",
    "    prompt = f\"\"\"\n",
    "    You are given a report of a typical chest X-Ray radiology findings.\n",
    "    Your task is to separate the findings into the following predefined anatomical regions: lung, heart, mediastinal, and bone. \n",
    "    If the model cannot assign the sentence to any anatomical region, please put it in others.\n",
    "\n",
    "    Input: {report}\n",
    "\n",
    "    Output format:\n",
    "    {{\n",
    "        \"lung\": \"...\",\n",
    "        \"heart\": \"...\",\n",
    "        \"mediastinal\": \"...\",\n",
    "        \"bone\": \"...\",\n",
    "        \"others\": \"...\"\n",
    "    }}\n",
    "    \"\"\"\n",
    "\n",
    "    inputs = tokenizer(prompt, return_tensors=\"pt\")\n",
    "    outputs = model.generate(inputs.input_ids, max_length=500)\n",
    "\n",
    "    result = tokenizer.decode(outputs[0], skip_special_tokens=True)\n",
    "    return json.loads(result.strip())\n",
    "\n",
    "# Example usage\n",
    "report = \"\"\"\n",
    "The cardiomediastinal silhouette and pulmonary vasculature are within normal limits in size. The\n",
    "lungs are mildly hypoinflated but grossly clear of focal airspace disease, pneumothorax, or pleural\n",
    "effusion. There are mild degenerative endplate changes in the thoracic spine. There are no acute\n",
    "bony findings.\n",
    "\"\"\"\n",
    "\n",
    "organized_report = reorganize_report_llama(report)\n",
    "print(json.dumps(organized_report, indent=4))\n"
   ]
  }
 ],
 "metadata": {
  "kernelspec": {
   "display_name": "Python 3 (ipykernel)",
   "language": "python",
   "name": "python3"
  },
  "language_info": {
   "codemirror_mode": {
    "name": "ipython",
    "version": 3
   },
   "file_extension": ".py",
   "mimetype": "text/x-python",
   "name": "python",
   "nbconvert_exporter": "python",
   "pygments_lexer": "ipython3",
   "version": "3.10.14"
  }
 },
 "nbformat": 4,
 "nbformat_minor": 4
}
