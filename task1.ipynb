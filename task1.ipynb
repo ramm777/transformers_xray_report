{
 "cells": [
  {
   "cell_type": "code",
   "execution_count": 1,
   "metadata": {},
   "outputs": [],
   "source": [
    "import pandas as pd\n",
    "import json\n",
    "from openai import OpenAI"
   ]
  },
  {
   "cell_type": "markdown",
   "metadata": {},
   "source": [
    "- The \"system\" role is used to set the context or guidelines for the conversation. It can provide background information or instructions that guide how the AI should respond"
   ]
  },
  {
   "cell_type": "code",
   "execution_count": 2,
   "metadata": {},
   "outputs": [
    {
     "data": {
      "text/plain": [
       "{'lung': 'The lungs are mildly hypoinflated but grossly clear of focal airspace disease, pneumothorax, or pleural effusion.',\n",
       " 'heart': 'The cardiomediastinal silhouette and pulmonary vasculature are within normal limits in size.',\n",
       " 'mediastinal': 'Mediastinal contours within normal limits in size.',\n",
       " 'bone': 'There are mild degenerative endplate changes in the thoracic spine. There are no acute bony findings.',\n",
       " 'others': ''}"
      ]
     },
     "execution_count": 2,
     "metadata": {},
     "output_type": "execute_result"
    }
   ],
   "source": [
    "openai_key = \"xxxxxxxxxx\"\n",
    "\n",
    "def classify_report(report):\n",
    "    \n",
    "    prompt = f\"\"\"\n",
    "    You are a specialist Radiologist who specialize in diagnosing and treating diseases and injuries using X-rays images.   \n",
    "    You will be provided with a chest X-ray report, which consists of several findings (sentences).  \n",
    "    Reorganize the findings from the provided chest X-ray report into anatomical regions: lung, heart, mediastinal, bone, and others. \n",
    "    For each region, assign the corresponding findings that relate specifically to it. \n",
    "    If any findings cannot be assigned to these anatomical regions, place them under \"others\".\n",
    "\n",
    "    lung: any mention of lung conditions, e.g. pneumothorax, consolidation, nodules.\n",
    "    heart: any mention of the heart, e.g. cardiomegaly, heart size, heart failure.\n",
    "    mediastinal: any mention of structures in the mediastinum, e.g. aorta, vena cava, trachea, windpipe, lymph nodes, esophagus.\n",
    "    bone: any mention of bone-related findings, e.g. fractures, abnormalities in ribs, spine.\n",
    "    others: any findings that do not clearly belong to the above categories, e.g. soft tissue, skin, or general findings.\n",
    "\n",
    "    Review the report carefully before assigning findings to the regions. Do not rush to answer. \n",
    "    Consider each finding (sentence) in each anatomical region before making the final decision. \n",
    "\n",
    "    Input chest X-ray report: {report}\n",
    "\n",
    "    Expected Output:\n",
    "    {{\n",
    "        \"lung\": \"\",\n",
    "        \"heart\": \"\",\n",
    "        \"mediastinal\": \"\",\n",
    "        \"bone\": \"\",\n",
    "        \"others\": \"\"\n",
    "    }}\n",
    "    \"\"\"\n",
    "\n",
    "    messages = [ {\"role\": \"system\", \"content\": prompt}]\n",
    "\n",
    "    client = OpenAI(api_key=openai_key)\n",
    "\n",
    "    response = client.chat.completions.create(\n",
    "                            model=\"gpt-4o-mini\",\n",
    "                            messages=messages,\n",
    "                            response_format={\"type\": \"text\"},\n",
    "                            temperature=1,\n",
    "                            max_completion_tokens=2048,\n",
    "                            top_p=1,\n",
    "                            frequency_penalty=0,\n",
    "                            presence_penalty=0) \n",
    "    \n",
    "    return response.choices[0].message.content\n",
    "\n",
    "\n",
    "report = \"\"\"\n",
    "The cardiomediastinal silhouette and pulmonary vasculature are within normal limits in size. \n",
    "The lungs are mildly hypoinflated but grossly clear of focal airspace disease, pneumothorax, or pleural effusion. \n",
    "There are mild degenerative endplate changes in the thoracic spine. There are no acute bony findings.\n",
    "Mediastinal contours within normal limits in size.\n",
    "\"\"\"\n",
    "\n",
    "output = classify_report(report)\n",
    "output = json.loads(output)\n",
    "output"
   ]
  },
  {
   "cell_type": "code",
   "execution_count": 3,
   "metadata": {},
   "outputs": [
    {
     "name": "stdout",
     "output_type": "stream",
     "text": [
      "296\n"
     ]
    },
    {
     "data": {
      "text/plain": [
       "{'id': 'CXR2279_IM-0865',\n",
       " 'original_report': 'Heart size is enlarged. The aorta is unfolded. Otherwise the mediastinal contour is normal. There are streaky bibasilar opacities. There are no nodules or masses. No visible pneumothorax. No visible pleural fluid. The XXXX are grossly normal. There is no visible free intraperitoneal air under the diaphragm.',\n",
       " 'split': 'val'}"
      ]
     },
     "execution_count": 3,
     "metadata": {},
     "output_type": "execute_result"
    }
   ],
   "source": [
    "file_path = 'data/annotation_quiz_all.json'\n",
    "\n",
    "with open(file_path, 'r') as f:\n",
    "    data = json.load(f)\n",
    "\n",
    "data_val = data[\"val\"]\n",
    "\n",
    "print( len(data_val) ) \n",
    "data_val[0] "
   ]
  },
  {
   "cell_type": "code",
   "execution_count": 4,
   "metadata": {},
   "outputs": [
    {
     "data": {
      "application/vnd.jupyter.widget-view+json": {
       "model_id": "89723650857d4606bd842730205c5453",
       "version_major": 2,
       "version_minor": 0
      },
      "text/plain": [
       "  0%|          | 0/296 [00:00<?, ?it/s]"
      ]
     },
     "metadata": {},
     "output_type": "display_data"
    }
   ],
   "source": [
    "import time\n",
    "from tqdm.notebook import tqdm\n",
    "\n",
    "val_classified = []\n",
    "for i in tqdm(range(len(data_val))): \n",
    "    id = data_val[i]['id']\n",
    "    original_report = data_val[i]['original_report'] \n",
    "\n",
    "    try:\n",
    "        output = classify_report(original_report)\n",
    "        output = json.loads(output) \n",
    "    except json.JSONDecodeError as e:\n",
    "        time.sleep(20)\n",
    "        output = classify_report(original_report)\n",
    "        output = json.loads(output)\n",
    "\n",
    "    val_classified.append({\"id\":id, \"report\":output, \"split\":\"val\"})\n",
    "\n",
    "    if (i + 1) % 5 == 0:\n",
    "        time.sleep(2)  \n"
   ]
  },
  {
   "cell_type": "code",
   "execution_count": 7,
   "metadata": {},
   "outputs": [],
   "source": [
    "data['val'] = val_classified"
   ]
  },
  {
   "cell_type": "code",
   "execution_count": 8,
   "metadata": {},
   "outputs": [],
   "source": [
    "new_file_path = 'data/annotation_quiz_all_v2.json'\n",
    "\n",
    "with open(new_file_path, 'w') as f:\n",
    "    json.dump(data, f, indent=4)"
   ]
  },
  {
   "cell_type": "code",
   "execution_count": null,
   "metadata": {},
   "outputs": [],
   "source": []
  }
 ],
 "metadata": {
  "kernelspec": {
   "display_name": ".venv",
   "language": "python",
   "name": "python3"
  },
  "language_info": {
   "codemirror_mode": {
    "name": "ipython",
    "version": 3
   },
   "file_extension": ".py",
   "mimetype": "text/x-python",
   "name": "python",
   "nbconvert_exporter": "python",
   "pygments_lexer": "ipython3",
   "version": "3.9.13"
  }
 },
 "nbformat": 4,
 "nbformat_minor": 2
}
